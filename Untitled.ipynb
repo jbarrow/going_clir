{
 "cells": [
  {
   "cell_type": "code",
   "execution_count": 2,
   "metadata": {
    "collapsed": true
   },
   "outputs": [],
   "source": [
    "import torch\n",
    "import torch.nn as nn\n",
    "import torch.nn.functional as F\n",
    "import torch.optim as optim\n",
    "\n",
    "from torch.autograd import Variable"
   ]
  },
  {
   "cell_type": "code",
   "execution_count": 21,
   "metadata": {
    "collapsed": true
   },
   "outputs": [],
   "source": [
    "class TestModule(nn.Module):\n",
    "    def __init__(self):\n",
    "        super(TestModule, self).__init__()\n",
    "        \n",
    "        self.layer = nn.Linear(4, 2)\n",
    "    \n",
    "    def forward(self, x):\n",
    "        print(self.layer.weight.data)\n",
    "        return F.softmax(self.layer(x))\n",
    "    "
   ]
  },
  {
   "cell_type": "code",
   "execution_count": 22,
   "metadata": {
    "collapsed": true
   },
   "outputs": [],
   "source": [
    "m = TestModule()"
   ]
  },
  {
   "cell_type": "code",
   "execution_count": 26,
   "metadata": {},
   "outputs": [
    {
     "name": "stdout",
     "output_type": "stream",
     "text": [
      "\n",
      " 0.1861 -0.2287 -0.4857 -0.1487\n",
      "-0.3984  0.0314  0.0693 -0.2828\n",
      "[torch.FloatTensor of size 2x4]\n",
      "\n",
      "Variable containing:\n",
      " 0.5272  0.4728\n",
      " 0.5272  0.4728\n",
      "[torch.FloatTensor of size 2x2]\n",
      "\n",
      "\n",
      " 0.1861 -0.2287 -0.4857 -0.1487\n",
      "-0.3984  0.0314  0.0693 -0.2828\n",
      "[torch.FloatTensor of size 2x4]\n",
      "\n"
     ]
    },
    {
     "name": "stderr",
     "output_type": "stream",
     "text": [
      "/home/joe/anaconda3/envs/py36/lib/python3.6/site-packages/ipykernel/__main__.py:9: UserWarning: Implicit dimension choice for softmax has been deprecated. Change the call to include dim=X as an argument.\n"
     ]
    },
    {
     "data": {
      "text/plain": [
       "Variable containing:\n",
       "(0 ,.,.) = \n",
       "  0.5000  0.5000\n",
       "  0.5000  0.5000\n",
       "  0.5000  0.5000\n",
       "  0.5000  0.5000\n",
       "\n",
       "(1 ,.,.) = \n",
       "  0.5000  0.5000\n",
       "  0.5000  0.5000\n",
       "  0.5000  0.5000\n",
       "  0.5000  0.5000\n",
       "[torch.FloatTensor of size 2x4x2]"
      ]
     },
     "execution_count": 26,
     "metadata": {},
     "output_type": "execute_result"
    }
   ],
   "source": [
    "print(m(Variable(torch.ones(2, 4))))\n",
    "\n",
    "m(Variable(torch.ones(2, 4, 4)))"
   ]
  },
  {
   "cell_type": "code",
   "execution_count": null,
   "metadata": {
    "collapsed": true
   },
   "outputs": [],
   "source": []
  }
 ],
 "metadata": {
  "kernelspec": {
   "display_name": "Environment (conda_py36)",
   "language": "python",
   "name": "conda_py36"
  },
  "language_info": {
   "codemirror_mode": {
    "name": "ipython",
    "version": 3
   },
   "file_extension": ".py",
   "mimetype": "text/x-python",
   "name": "python",
   "nbconvert_exporter": "python",
   "pygments_lexer": "ipython3",
   "version": "3.6.1"
  }
 },
 "nbformat": 4,
 "nbformat_minor": 2
}
