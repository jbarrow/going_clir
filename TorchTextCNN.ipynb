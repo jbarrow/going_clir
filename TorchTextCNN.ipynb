{
 "cells": [
  {
   "cell_type": "code",
   "execution_count": 1,
   "metadata": {
    "collapsed": true
   },
   "outputs": [],
   "source": [
    "%matplotlib inline"
   ]
  },
  {
   "cell_type": "code",
   "execution_count": 2,
   "metadata": {
    "collapsed": true
   },
   "outputs": [],
   "source": [
    "import time\n",
    "import torch\n",
    "import numpy as np\n",
    "import torch.nn as nn\n",
    "import torch.optim as optim\n",
    "import torch.nn.functional as F\n",
    "import torchtext.data as data\n",
    "import matplotlib.pyplot as plt\n",
    "\n",
    "from torchtext.vocab import GloVe\n",
    "from torch.autograd import Variable\n",
    "from torchtext.datasets import IMDB\n",
    "from vectors import MultiCCA, VectorVocabField"
   ]
  },
  {
   "cell_type": "code",
   "execution_count": 3,
   "metadata": {
    "collapsed": true
   },
   "outputs": [],
   "source": [
    "MAX_LENGTH=373\n",
    "EPOCHS=10"
   ]
  },
  {
   "cell_type": "code",
   "execution_count": 4,
   "metadata": {
    "collapsed": true
   },
   "outputs": [],
   "source": [
    "vectors=GloVe(name='6B', dim=50)"
   ]
  },
  {
   "cell_type": "code",
   "execution_count": 5,
   "metadata": {
    "collapsed": true
   },
   "outputs": [],
   "source": [
    "class ConvClassifier(nn.Module):\n",
    "    def __init__(self, vocab_size, embedding_dim, pretrained_embeddings, \n",
    "                 num_filters=100, window_sizes=(3, 4, 5), mode='static', num_classes=2):\n",
    "        super(ConvClassifier, self).__init__()\n",
    "        \n",
    "        self.embedding = nn.Embedding(vocab_size, embedding_dim)\n",
    "        self.embedding.weight.data.copy_(pretrained_embeddings)\n",
    "        self.embedding.weight.requires_grad = (mode == 'nonstatic')\n",
    "        \n",
    "#         self.hidden = nn.Linear(embedding_dim, num_filters)\n",
    "#         self.out = nn.Linear(num_filters, num_classes)\n",
    "\n",
    "        self.convs = nn.ModuleList([\n",
    "            nn.Conv2d(1, num_filters, [window_size, embedding_dim], padding=(window_size - 1, 0))\n",
    "            for window_size in window_sizes\n",
    "        ])\n",
    "    \n",
    "#         self.norms = nn.ModuleList([\n",
    "#             nn.BatchNorm2d(num_filters) for window_size in window_sizes\n",
    "#         ])\n",
    "\n",
    "        self.norm = nn.BatchNorm1d(num_classes)\n",
    "\n",
    "        self.fc = nn.Linear(num_filters * len(window_sizes), num_classes)\n",
    "\n",
    "    def forward(self, x):\n",
    "        x = self.embedding(x)           # [B, T, E]\n",
    "#         x = x.mean(dim=1)\n",
    "#         x = F.sigmoid(self.hidden(x))\n",
    "#         x = F.softmax(self.out(x), dim=1)\n",
    "        \n",
    "#         return x\n",
    "        \n",
    "        # Apply a convolution + max pool layer for each window size\n",
    "        x = torch.unsqueeze(x, 1)       # [B, C, T, E] Add a channel dim.\n",
    "        xs = []\n",
    "        for conv in self.convs:\n",
    "            x2 = F.relu(conv(x))        # [B, F, T, 1]\n",
    "            x2 = torch.squeeze(x2, -1)  # [B, F, T]\n",
    "#             x2 = norm(x2)\n",
    "            x2 = F.max_pool1d(x2, x2.size(2))  # [B, F, 1]\n",
    "            xs.append(x2)\n",
    "        x = torch.cat(xs, 2)            # [B, F, window]\n",
    "\n",
    "        # FC\n",
    "        x = x.view(x.size(0), -1)       # [B, F * window]\n",
    "        logits = self.fc(x)             # [B, class]\n",
    "        \n",
    "        logits = self.norm(logits)\n",
    "\n",
    "        # Prediction\n",
    "        probs = F.softmax(logits, dim=1)       # [B, class]\n",
    "\n",
    "        return probs"
   ]
  },
  {
   "cell_type": "code",
   "execution_count": 6,
   "metadata": {},
   "outputs": [],
   "source": [
    "import string\n",
    "\n",
    "translator = str.maketrans('', '', string.punctuation)\n",
    "\n",
    "# allows us to generate \n",
    "def preprocess(l):\n",
    "    nopunct = [s.translate(translator) for s in l]\n",
    "    return [s for s in nopunct if s and s in vectors.stoi]\n",
    "\n",
    "# needed because `split` subclasses dataset, and thus doesn't have a\n",
    "# proper sort key\n",
    "def sort_key(ex):\n",
    "    return len(ex.text)\n",
    "\n",
    "text_field = VectorVocabField(lower=True, preprocessing=preprocess)\n",
    "#text_field = GloVeField(lower=True, preprocessing=preprocess, fix_length=MAX_LENGTH)\n",
    "label_field = data.Field(sequential=False, unk_token=None, pad_token=None)\n",
    "\n",
    "train, test = IMDB.splits(text_field=text_field, label_field=label_field)\n",
    "train, val = train.split(split_ratio=0.7)\n",
    "train.sort_key = sort_key\n",
    "val.sort_key = sort_key\n",
    "\n",
    "text_field.build_vocab(train, vectors=vectors)\n",
    "label_field.build_vocab(train)\n",
    "\n",
    "train, val, test = data.BucketIterator.splits(\n",
    "    (train, val, test), batch_sizes=(128, 128, 128), device=-1, repeat=False\n",
    ")"
   ]
  },
  {
   "cell_type": "code",
   "execution_count": 7,
   "metadata": {},
   "outputs": [],
   "source": [
    "examples = next(iter(val)).text.t()"
   ]
  },
  {
   "cell_type": "code",
   "execution_count": 8,
   "metadata": {},
   "outputs": [
    {
     "name": "stdout",
     "output_type": "stream",
     "text": [
      "superb movie very good photography of bolton which seems now to be a different world thoughtful and an excellent dramatisation and production james mason a real first class star it is and i would agree with the above comment that this movie is a national treasure\n",
      "\n"
     ]
    }
   ],
   "source": [
    "for example in examples:\n",
    "    print(' '.join([text_field.vocab.itos[num.data[0]] for num in example]))\n",
    "    print('')\n",
    "    break\n",
    "#clf(examples)"
   ]
  },
  {
   "cell_type": "code",
   "execution_count": 9,
   "metadata": {},
   "outputs": [
    {
     "data": {
      "text/plain": [
       "['neg', 'pos']"
      ]
     },
     "execution_count": 9,
     "metadata": {},
     "output_type": "execute_result"
    }
   ],
   "source": [
    "label_field.vocab.itos"
   ]
  },
  {
   "cell_type": "code",
   "execution_count": 10,
   "metadata": {
    "collapsed": true
   },
   "outputs": [],
   "source": [
    "vocab_size, embeddings_dim = text_field.vocab.vectors.shape\n",
    "\n",
    "clf = ConvClassifier(vocab_size, embeddings_dim, text_field.vocab.vectors, num_filters=20, mode='static')"
   ]
  },
  {
   "cell_type": "code",
   "execution_count": 15,
   "metadata": {
    "collapsed": true
   },
   "outputs": [],
   "source": [
    "def run_epoch(model, loss, iterable, training=True):\n",
    "    batch_accs, batch_losses = [], []\n",
    "    epoch_start = time.time()\n",
    "    \n",
    "    for batch in tqdm(iterable, total=len(iterable)):\n",
    "        x, y = batch.text.t(), batch.label\n",
    "        y = y * 2 - 1\n",
    "        \n",
    "        if training:\n",
    "            model.zero_grad()\n",
    " \n",
    "        out = model(x)\n",
    "        _, preds = torch.max(out, 1)\n",
    "        \n",
    "        accuracy = torch.mean(torch.eq(preds, y).float())\n",
    "        batch_loss = loss(out, y)\n",
    "        \n",
    "        if training:\n",
    "            batch_loss.backward()\n",
    "            torch.nn.utils.clip_grad_norm(model.parameters(), .25)\n",
    "            opt.step()\n",
    "            \n",
    "        batch_accs.append(accuracy.data[0])\n",
    "        batch_losses.append(batch_loss.data[0])\n",
    "        \n",
    "        del x, y\n",
    "    \n",
    "    epoch_end = time.time()\n",
    "    return np.mean(batch_accs), np.mean(batch_losses), epoch_end - epoch_start"
   ]
  },
  {
   "cell_type": "code",
   "execution_count": 16,
   "metadata": {
    "scrolled": true
   },
   "outputs": [
    {
     "name": "stderr",
     "output_type": "stream",
     "text": [
      "  0%|          | 0/137 [00:00<?, ?it/s]\n"
     ]
    },
    {
     "ename": "TypeError",
     "evalue": "torch.eq received an invalid combination of arguments - got (torch.LongTensor, float), but expected one of:\n * (torch.LongTensor tensor, int value)\n      didn't match because some of the arguments have invalid types: (\u001b[32;1mtorch.LongTensor\u001b[0m, \u001b[31;1mfloat\u001b[0m)\n * (torch.LongTensor tensor, torch.LongTensor other)\n      didn't match because some of the arguments have invalid types: (\u001b[32;1mtorch.LongTensor\u001b[0m, \u001b[31;1mfloat\u001b[0m)\n * (torch.LongTensor tensor, int value)\n      didn't match because some of the arguments have invalid types: (\u001b[32;1mtorch.LongTensor\u001b[0m, \u001b[31;1mfloat\u001b[0m)\n * (torch.LongTensor tensor, torch.LongTensor other)\n      didn't match because some of the arguments have invalid types: (\u001b[32;1mtorch.LongTensor\u001b[0m, \u001b[31;1mfloat\u001b[0m)\n",
     "output_type": "error",
     "traceback": [
      "\u001b[0;31m---------------------------------------------------------------------------\u001b[0m",
      "\u001b[0;31mTypeError\u001b[0m                                 Traceback (most recent call last)",
      "\u001b[0;32m<ipython-input-16-d549322a4b5a>\u001b[0m in \u001b[0;36m<module>\u001b[0;34m()\u001b[0m\n\u001b[1;32m      4\u001b[0m \u001b[0;32mfrom\u001b[0m \u001b[0mtqdm\u001b[0m \u001b[0;32mimport\u001b[0m \u001b[0mtqdm\u001b[0m\u001b[0;34m\u001b[0m\u001b[0m\n\u001b[1;32m      5\u001b[0m \u001b[0;34m\u001b[0m\u001b[0m\n\u001b[0;32m----> 6\u001b[0;31m \u001b[0minit_acc\u001b[0m\u001b[0;34m,\u001b[0m \u001b[0m_\u001b[0m\u001b[0;34m,\u001b[0m \u001b[0m_\u001b[0m \u001b[0;34m=\u001b[0m \u001b[0mrun_epoch\u001b[0m\u001b[0;34m(\u001b[0m\u001b[0mclf\u001b[0m\u001b[0;34m,\u001b[0m \u001b[0mloss\u001b[0m\u001b[0;34m,\u001b[0m \u001b[0mtrain\u001b[0m\u001b[0;34m,\u001b[0m \u001b[0mtraining\u001b[0m\u001b[0;34m=\u001b[0m\u001b[0;32mFalse\u001b[0m\u001b[0;34m)\u001b[0m\u001b[0;34m\u001b[0m\u001b[0m\n\u001b[0m\u001b[1;32m      7\u001b[0m \u001b[0mbest_acc\u001b[0m\u001b[0;34m,\u001b[0m \u001b[0m_\u001b[0m\u001b[0;34m,\u001b[0m \u001b[0m_\u001b[0m \u001b[0;34m=\u001b[0m \u001b[0mrun_epoch\u001b[0m\u001b[0;34m(\u001b[0m\u001b[0mclf\u001b[0m\u001b[0;34m,\u001b[0m \u001b[0mloss\u001b[0m\u001b[0;34m,\u001b[0m \u001b[0mval\u001b[0m\u001b[0;34m,\u001b[0m \u001b[0mtraining\u001b[0m\u001b[0;34m=\u001b[0m\u001b[0;32mFalse\u001b[0m\u001b[0;34m)\u001b[0m\u001b[0;34m\u001b[0m\u001b[0m\n\u001b[1;32m      8\u001b[0m \u001b[0;34m\u001b[0m\u001b[0m\n",
      "\u001b[0;32m<ipython-input-15-19edf7bf45aa>\u001b[0m in \u001b[0;36mrun_epoch\u001b[0;34m(model, loss, iterable, training)\u001b[0m\n\u001b[1;32m     14\u001b[0m \u001b[0;34m\u001b[0m\u001b[0m\n\u001b[1;32m     15\u001b[0m         \u001b[0maccuracy\u001b[0m \u001b[0;34m=\u001b[0m \u001b[0mtorch\u001b[0m\u001b[0;34m.\u001b[0m\u001b[0mmean\u001b[0m\u001b[0;34m(\u001b[0m\u001b[0mtorch\u001b[0m\u001b[0;34m.\u001b[0m\u001b[0meq\u001b[0m\u001b[0;34m(\u001b[0m\u001b[0mpreds\u001b[0m\u001b[0;34m,\u001b[0m \u001b[0my\u001b[0m\u001b[0;34m)\u001b[0m\u001b[0;34m.\u001b[0m\u001b[0mfloat\u001b[0m\u001b[0;34m(\u001b[0m\u001b[0;34m)\u001b[0m\u001b[0;34m)\u001b[0m\u001b[0;34m\u001b[0m\u001b[0m\n\u001b[0;32m---> 16\u001b[0;31m         \u001b[0mbatch_loss\u001b[0m \u001b[0;34m=\u001b[0m \u001b[0mloss\u001b[0m\u001b[0;34m(\u001b[0m\u001b[0mout\u001b[0m\u001b[0;34m,\u001b[0m \u001b[0my\u001b[0m\u001b[0;34m)\u001b[0m\u001b[0;34m\u001b[0m\u001b[0m\n\u001b[0m\u001b[1;32m     17\u001b[0m \u001b[0;34m\u001b[0m\u001b[0m\n\u001b[1;32m     18\u001b[0m         \u001b[0;32mif\u001b[0m \u001b[0mtraining\u001b[0m\u001b[0;34m:\u001b[0m\u001b[0;34m\u001b[0m\u001b[0m\n",
      "\u001b[0;32m~/anaconda3/envs/py36/lib/python3.6/site-packages/torch/nn/modules/module.py\u001b[0m in \u001b[0;36m__call__\u001b[0;34m(self, *input, **kwargs)\u001b[0m\n\u001b[1;32m    355\u001b[0m             \u001b[0mresult\u001b[0m \u001b[0;34m=\u001b[0m \u001b[0mself\u001b[0m\u001b[0;34m.\u001b[0m\u001b[0m_slow_forward\u001b[0m\u001b[0;34m(\u001b[0m\u001b[0;34m*\u001b[0m\u001b[0minput\u001b[0m\u001b[0;34m,\u001b[0m \u001b[0;34m**\u001b[0m\u001b[0mkwargs\u001b[0m\u001b[0;34m)\u001b[0m\u001b[0;34m\u001b[0m\u001b[0m\n\u001b[1;32m    356\u001b[0m         \u001b[0;32melse\u001b[0m\u001b[0;34m:\u001b[0m\u001b[0;34m\u001b[0m\u001b[0m\n\u001b[0;32m--> 357\u001b[0;31m             \u001b[0mresult\u001b[0m \u001b[0;34m=\u001b[0m \u001b[0mself\u001b[0m\u001b[0;34m.\u001b[0m\u001b[0mforward\u001b[0m\u001b[0;34m(\u001b[0m\u001b[0;34m*\u001b[0m\u001b[0minput\u001b[0m\u001b[0;34m,\u001b[0m \u001b[0;34m**\u001b[0m\u001b[0mkwargs\u001b[0m\u001b[0;34m)\u001b[0m\u001b[0;34m\u001b[0m\u001b[0m\n\u001b[0m\u001b[1;32m    358\u001b[0m         \u001b[0;32mfor\u001b[0m \u001b[0mhook\u001b[0m \u001b[0;32min\u001b[0m \u001b[0mself\u001b[0m\u001b[0;34m.\u001b[0m\u001b[0m_forward_hooks\u001b[0m\u001b[0;34m.\u001b[0m\u001b[0mvalues\u001b[0m\u001b[0;34m(\u001b[0m\u001b[0;34m)\u001b[0m\u001b[0;34m:\u001b[0m\u001b[0;34m\u001b[0m\u001b[0m\n\u001b[1;32m    359\u001b[0m             \u001b[0mhook_result\u001b[0m \u001b[0;34m=\u001b[0m \u001b[0mhook\u001b[0m\u001b[0;34m(\u001b[0m\u001b[0mself\u001b[0m\u001b[0;34m,\u001b[0m \u001b[0minput\u001b[0m\u001b[0;34m,\u001b[0m \u001b[0mresult\u001b[0m\u001b[0;34m)\u001b[0m\u001b[0;34m\u001b[0m\u001b[0m\n",
      "\u001b[0;32m~/anaconda3/envs/py36/lib/python3.6/site-packages/torch/nn/modules/loss.py\u001b[0m in \u001b[0;36mforward\u001b[0;34m(self, input, target)\u001b[0m\n\u001b[1;32m    530\u001b[0m \u001b[0;34m\u001b[0m\u001b[0m\n\u001b[1;32m    531\u001b[0m     \u001b[0;32mdef\u001b[0m \u001b[0mforward\u001b[0m\u001b[0;34m(\u001b[0m\u001b[0mself\u001b[0m\u001b[0;34m,\u001b[0m \u001b[0minput\u001b[0m\u001b[0;34m,\u001b[0m \u001b[0mtarget\u001b[0m\u001b[0;34m)\u001b[0m\u001b[0;34m:\u001b[0m\u001b[0;34m\u001b[0m\u001b[0m\n\u001b[0;32m--> 532\u001b[0;31m         \u001b[0;32mreturn\u001b[0m \u001b[0mF\u001b[0m\u001b[0;34m.\u001b[0m\u001b[0mhinge_embedding_loss\u001b[0m\u001b[0;34m(\u001b[0m\u001b[0minput\u001b[0m\u001b[0;34m,\u001b[0m \u001b[0mtarget\u001b[0m\u001b[0;34m,\u001b[0m \u001b[0mself\u001b[0m\u001b[0;34m.\u001b[0m\u001b[0mmargin\u001b[0m\u001b[0;34m,\u001b[0m \u001b[0mself\u001b[0m\u001b[0;34m.\u001b[0m\u001b[0msize_average\u001b[0m\u001b[0;34m)\u001b[0m\u001b[0;34m\u001b[0m\u001b[0m\n\u001b[0m\u001b[1;32m    533\u001b[0m \u001b[0;34m\u001b[0m\u001b[0m\n\u001b[1;32m    534\u001b[0m \u001b[0;34m\u001b[0m\u001b[0m\n",
      "\u001b[0;32m~/anaconda3/envs/py36/lib/python3.6/site-packages/torch/nn/functional.py\u001b[0m in \u001b[0;36mhinge_embedding_loss\u001b[0;34m(input, target, margin, size_average)\u001b[0m\n\u001b[1;32m   1296\u001b[0m     \u001b[0mSee\u001b[0m \u001b[0;34m:\u001b[0m\u001b[0;32mclass\u001b[0m\u001b[0;34m:\u001b[0m\u001b[0;31m`\u001b[0m\u001b[0;34m~\u001b[0m\u001b[0mtorch\u001b[0m\u001b[0;34m.\u001b[0m\u001b[0mnn\u001b[0m\u001b[0;34m.\u001b[0m\u001b[0mHingeEmbeddingLoss\u001b[0m\u001b[0;31m`\u001b[0m \u001b[0;32mfor\u001b[0m \u001b[0mdetails\u001b[0m\u001b[0;34m.\u001b[0m\u001b[0;34m\u001b[0m\u001b[0m\n\u001b[1;32m   1297\u001b[0m     \"\"\"\n\u001b[0;32m-> 1298\u001b[0;31m     \u001b[0;32mreturn\u001b[0m \u001b[0m_functions\u001b[0m\u001b[0;34m.\u001b[0m\u001b[0mloss\u001b[0m\u001b[0;34m.\u001b[0m\u001b[0mHingeEmbeddingLoss\u001b[0m\u001b[0;34m.\u001b[0m\u001b[0mapply\u001b[0m\u001b[0;34m(\u001b[0m\u001b[0minput\u001b[0m\u001b[0;34m,\u001b[0m \u001b[0mtarget\u001b[0m\u001b[0;34m,\u001b[0m \u001b[0mmargin\u001b[0m\u001b[0;34m,\u001b[0m \u001b[0msize_average\u001b[0m\u001b[0;34m)\u001b[0m\u001b[0;34m\u001b[0m\u001b[0m\n\u001b[0m\u001b[1;32m   1299\u001b[0m \u001b[0;34m\u001b[0m\u001b[0m\n\u001b[1;32m   1300\u001b[0m \u001b[0;34m\u001b[0m\u001b[0m\n",
      "\u001b[0;32m~/anaconda3/envs/py36/lib/python3.6/site-packages/torch/nn/_functions/loss.py\u001b[0m in \u001b[0;36mforward\u001b[0;34m(ctx, input, target, margin, size_average)\u001b[0m\n\u001b[1;32m    100\u001b[0m         \u001b[0mbuffer\u001b[0m \u001b[0;34m=\u001b[0m \u001b[0minput\u001b[0m\u001b[0;34m.\u001b[0m\u001b[0mnew\u001b[0m\u001b[0;34m(\u001b[0m\u001b[0;34m)\u001b[0m\u001b[0;34m\u001b[0m\u001b[0m\n\u001b[1;32m    101\u001b[0m         \u001b[0mbuffer\u001b[0m\u001b[0;34m.\u001b[0m\u001b[0mresize_as_\u001b[0m\u001b[0;34m(\u001b[0m\u001b[0minput\u001b[0m\u001b[0;34m)\u001b[0m\u001b[0;34m.\u001b[0m\u001b[0mcopy_\u001b[0m\u001b[0;34m(\u001b[0m\u001b[0minput\u001b[0m\u001b[0;34m)\u001b[0m\u001b[0;34m\u001b[0m\u001b[0m\n\u001b[0;32m--> 102\u001b[0;31m         \u001b[0mbuffer\u001b[0m\u001b[0;34m[\u001b[0m\u001b[0mtorch\u001b[0m\u001b[0;34m.\u001b[0m\u001b[0meq\u001b[0m\u001b[0;34m(\u001b[0m\u001b[0mtarget\u001b[0m\u001b[0;34m,\u001b[0m \u001b[0;34m-\u001b[0m\u001b[0;36m1.\u001b[0m\u001b[0;34m)\u001b[0m\u001b[0;34m]\u001b[0m \u001b[0;34m=\u001b[0m \u001b[0;36m0\u001b[0m\u001b[0;34m\u001b[0m\u001b[0m\n\u001b[0m\u001b[1;32m    103\u001b[0m         \u001b[0moutput\u001b[0m \u001b[0;34m=\u001b[0m \u001b[0mbuffer\u001b[0m\u001b[0;34m.\u001b[0m\u001b[0msum\u001b[0m\u001b[0;34m(\u001b[0m\u001b[0;34m)\u001b[0m\u001b[0;34m\u001b[0m\u001b[0m\n\u001b[1;32m    104\u001b[0m \u001b[0;34m\u001b[0m\u001b[0m\n",
      "\u001b[0;31mTypeError\u001b[0m: torch.eq received an invalid combination of arguments - got (torch.LongTensor, float), but expected one of:\n * (torch.LongTensor tensor, int value)\n      didn't match because some of the arguments have invalid types: (\u001b[32;1mtorch.LongTensor\u001b[0m, \u001b[31;1mfloat\u001b[0m)\n * (torch.LongTensor tensor, torch.LongTensor other)\n      didn't match because some of the arguments have invalid types: (\u001b[32;1mtorch.LongTensor\u001b[0m, \u001b[31;1mfloat\u001b[0m)\n * (torch.LongTensor tensor, int value)\n      didn't match because some of the arguments have invalid types: (\u001b[32;1mtorch.LongTensor\u001b[0m, \u001b[31;1mfloat\u001b[0m)\n * (torch.LongTensor tensor, torch.LongTensor other)\n      didn't match because some of the arguments have invalid types: (\u001b[32;1mtorch.LongTensor\u001b[0m, \u001b[31;1mfloat\u001b[0m)\n"
     ]
    }
   ],
   "source": [
    "opt = optim.Adam(filter(lambda p: p.requires_grad, clf.parameters()), lr=3e-3)\n",
    "loss = nn.NLLLoss()\n",
    "\n",
    "from tqdm import tqdm\n",
    "\n",
    "init_acc, _, _ = run_epoch(clf, loss, train, training=False)\n",
    "best_acc, _, _ = run_epoch(clf, loss, val, training=False)\n",
    "\n",
    "trn_losses, trn_accs = [0.], [init_acc]\n",
    "val_losses, val_accs = [0.], [best_acc]\n",
    "\n",
    "print(best_acc)\n",
    "\n",
    "for epoch in range(EPOCHS):\n",
    "    clf.train()\n",
    "    trn_acc, trn_loss, trn_time = run_epoch(clf, loss, train, training=True)\n",
    "    trn_losses.append(trn_loss)\n",
    "    trn_accs.append(trn_acc)\n",
    "        \n",
    "    clf.eval()\n",
    "    val_acc, val_loss, val_time = run_epoch(clf, loss, val, training=False)\n",
    "    val_losses.append(val_loss)\n",
    "    val_accs.append(val_acc)\n",
    "    \n",
    "    if val_acc > best_acc:\n",
    "        best_acc = val_acc\n",
    "    \n",
    "    print(best_acc)"
   ]
  },
  {
   "cell_type": "code",
   "execution_count": 13,
   "metadata": {},
   "outputs": [
    {
     "data": {
      "text/plain": [
       "[<matplotlib.lines.Line2D at 0x7faedd626f28>]"
      ]
     },
     "execution_count": 13,
     "metadata": {},
     "output_type": "execute_result"
    },
    {
     "data": {
      "image/png": "[encoded data removed]",
      "text/plain": [
       "<matplotlib.figure.Figure at 0x7faede0ce588>"
      ]
     },
     "metadata": {},
     "output_type": "display_data"
    }
   ],
   "source": [
    "plt.plot(val_accs)\n",
    "plt.plot(trn_accs)"
   ]
  },
  {
   "cell_type": "code",
   "execution_count": 14,
   "metadata": {},
   "outputs": [
    {
     "name": "stderr",
     "output_type": "stream",
     "text": [
      "100%|██████████| 196/196 [00:13<00:00, 14.86it/s]\n"
     ]
    },
    {
     "data": {
      "text/plain": [
       "(0.8136718750608211, -0.7970627111439802, 13.195263624191284)"
      ]
     },
     "execution_count": 14,
     "metadata": {},
     "output_type": "execute_result"
    }
   ],
   "source": [
    "run_epoch(clf, loss, test, training=False)"
   ]
  },
  {
   "cell_type": "code",
   "execution_count": null,
   "metadata": {
    "collapsed": true
   },
   "outputs": [],
   "source": []
  }
 ],
 "metadata": {
  "kernelspec": {
   "display_name": "Environment (conda_py36)",
   "language": "python",
   "name": "conda_py36"
  },
  "language_info": {
   "codemirror_mode": {
    "name": "ipython",
    "version": 3
   },
   "file_extension": ".py",
   "mimetype": "text/x-python",
   "name": "python",
   "nbconvert_exporter": "python",
   "pygments_lexer": "ipython3",
   "version": "3.6.1"
  }
 },
 "nbformat": 4,
 "nbformat_minor": 2
}
