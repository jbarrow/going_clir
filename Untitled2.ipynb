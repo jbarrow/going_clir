{
 "cells": [
  {
   "cell_type": "code",
   "execution_count": 1,
   "metadata": {
    "collapsed": true
   },
   "outputs": [],
   "source": [
    "import spacy\n",
    "import pandas as pd\n",
    "\n",
    "from multiprocessing import Pool\n",
    "from tqdm import tqdm"
   ]
  },
  {
   "cell_type": "code",
   "execution_count": 2,
   "metadata": {
    "collapsed": true
   },
   "outputs": [],
   "source": [
    "tqdm.monitor_interval = 0 "
   ]
  },
  {
   "cell_type": "code",
   "execution_count": 3,
   "metadata": {
    "collapsed": true
   },
   "outputs": [],
   "source": [
    "nlp = spacy.load('fr', disable=['tagger', 'ner'])"
   ]
  },
  {
   "cell_type": "code",
   "execution_count": 4,
   "metadata": {},
   "outputs": [],
   "source": [
    "docs = pd.read_csv('docs.csv')"
   ]
  },
  {
   "cell_type": "code",
   "execution_count": 10,
   "metadata": {},
   "outputs": [],
   "source": [
    "tokenize = lambda s: ' '.join([t.lower_ for t in s if t.lower_.isalnum()])\n",
    "\n",
    "def preprocess(doc, is_query=False):\n",
    "    if type(doc) != str: doc = ''\n",
    "    \n",
    "    doc = doc.replace('\\n', '')\n",
    "    doc = nlp(doc)\n",
    "    \n",
    "    if is_query:\n",
    "        return tokenize(doc)\n",
    "\n",
    "    doc = [tokenize(s) for s in doc.sents]\n",
    "    return ' <s> '.join(doc)"
   ]
  },
  {
   "cell_type": "code",
   "execution_count": 11,
   "metadata": {},
   "outputs": [
    {
     "name": "stderr",
     "output_type": "stream",
     "text": [
      "100%|██████████| 87191/87191 [1:38:16<00:00, 14.79it/s]\n"
     ]
    }
   ],
   "source": [
    "doc_list = []\n",
    "\n",
    "for doc in tqdm(docs.itertuples(), total=len(docs)):\n",
    "    doc_attrs = { 'id': doc.id }\n",
    "    doc_attrs['title'] = preprocess(doc.title, True)\n",
    "    doc_attrs['text'] = preprocess(doc.text, False)\n",
    "    \n",
    "    doc_list.append(doc_attrs)"
   ]
  },
  {
   "cell_type": "code",
   "execution_count": 12,
   "metadata": {},
   "outputs": [
    {
     "data": {
      "text/plain": [
       "87191"
      ]
     },
     "execution_count": 12,
     "metadata": {},
     "output_type": "execute_result"
    }
   ],
   "source": [
    "len(doc_list)"
   ]
  },
  {
   "cell_type": "code",
   "execution_count": null,
   "metadata": {
    "collapsed": true
   },
   "outputs": [],
   "source": []
  }
 ],
 "metadata": {
  "kernelspec": {
   "display_name": "Environment (conda_py36)",
   "language": "python",
   "name": "conda_py36"
  },
  "language_info": {
   "codemirror_mode": {
    "name": "ipython",
    "version": 3
   },
   "file_extension": ".py",
   "mimetype": "text/x-python",
   "name": "python",
   "nbconvert_exporter": "python",
   "pygments_lexer": "ipython3",
   "version": "3.6.1"
  }
 },
 "nbformat": 4,
 "nbformat_minor": 2
}
